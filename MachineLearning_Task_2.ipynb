{
  "nbformat": 4,
  "nbformat_minor": 0,
  "metadata": {
    "colab": {
      "provenance": [],
      "authorship_tag": "ABX9TyPDOs7Lvzmh+C3CVdnlhxyO",
      "include_colab_link": true
    },
    "kernelspec": {
      "name": "python3",
      "display_name": "Python 3"
    },
    "language_info": {
      "name": "python"
    }
  },
  "cells": [
    {
      "cell_type": "markdown",
      "metadata": {
        "id": "view-in-github",
        "colab_type": "text"
      },
      "source": [
        "<a href=\"https://colab.research.google.com/github/AnjanaAbY/MyDoodle/blob/main/MachineLearning_Task_2.ipynb\" target=\"_parent\"><img src=\"https://colab.research.google.com/assets/colab-badge.svg\" alt=\"Open In Colab\"/></a>"
      ]
    },
    {
      "cell_type": "code",
      "execution_count": 28,
      "metadata": {
        "colab": {
          "base_uri": "https://localhost:8080/"
        },
        "id": "BGHqISYTZrJI",
        "outputId": "7e5d555d-af61-4c3e-ff56-440560831048"
      },
      "outputs": [
        {
          "output_type": "stream",
          "name": "stdout",
          "text": [
            "--2023-12-04 06:41:23--  https://s3-api.us-geo.objectstorage.softlayer.net/cf-courses-data/CognitiveClass/ML0101ENv3/labs/drug200.csv\n",
            "Resolving s3-api.us-geo.objectstorage.softlayer.net (s3-api.us-geo.objectstorage.softlayer.net)... 67.228.254.196\n",
            "Connecting to s3-api.us-geo.objectstorage.softlayer.net (s3-api.us-geo.objectstorage.softlayer.net)|67.228.254.196|:443... connected.\n",
            "HTTP request sent, awaiting response... 200 OK\n",
            "Length: 6027 (5.9K) [text/csv]\n",
            "Saving to: ‘drug200.csv’\n",
            "\n",
            "\rdrug200.csv           0%[                    ]       0  --.-KB/s               \rdrug200.csv         100%[===================>]   5.89K  --.-KB/s    in 0s      \n",
            "\n",
            "2023-12-04 06:41:23 (3.11 GB/s) - ‘drug200.csv’ saved [6027/6027]\n",
            "\n"
          ]
        }
      ],
      "source": [
        "!wget -O drug200.csv https://s3-api.us-geo.objectstorage.softlayer.net/cf-courses-data/CognitiveClass/ML0101ENv3/labs/drug200.csv"
      ]
    },
    {
      "cell_type": "code",
      "source": [
        "import numpy as np\n",
        "import pandas as pd\n",
        "import matplotlib.pyplot as plt\n",
        "import seaborn as sns\n",
        "from sklearn.model_selection import train_test_split\n",
        "from sklearn import metrics"
      ],
      "metadata": {
        "id": "YV6_VvetZx7h"
      },
      "execution_count": 49,
      "outputs": []
    },
    {
      "cell_type": "code",
      "source": [
        "ds=pd.read_csv(\"drug200.csv\")"
      ],
      "metadata": {
        "id": "-p2HGfdcZ6Ra"
      },
      "execution_count": 30,
      "outputs": []
    },
    {
      "cell_type": "code",
      "source": [
        "print(\"Description:\\n\",ds.describe())"
      ],
      "metadata": {
        "colab": {
          "base_uri": "https://localhost:8080/"
        },
        "id": "SHVYqTh7aCX9",
        "outputId": "aa4921c8-e0ab-4a1f-f95a-b8f4c81768eb"
      },
      "execution_count": 31,
      "outputs": [
        {
          "output_type": "stream",
          "name": "stdout",
          "text": [
            "Description:\n",
            "               Age     Na_to_K\n",
            "count  200.000000  200.000000\n",
            "mean    44.315000   16.084485\n",
            "std     16.544315    7.223956\n",
            "min     15.000000    6.269000\n",
            "25%     31.000000   10.445500\n",
            "50%     45.000000   13.936500\n",
            "75%     58.000000   19.380000\n",
            "max     74.000000   38.247000\n"
          ]
        }
      ]
    },
    {
      "cell_type": "code",
      "source": [
        "print(\"null values:\\n\",ds.isnull().sum())"
      ],
      "metadata": {
        "colab": {
          "base_uri": "https://localhost:8080/"
        },
        "id": "Cr67OQaUaL_w",
        "outputId": "4bf42157-4200-4313-9321-5f3304074677"
      },
      "execution_count": 32,
      "outputs": [
        {
          "output_type": "stream",
          "name": "stdout",
          "text": [
            "null values:\n",
            " Age            0\n",
            "Sex            0\n",
            "BP             0\n",
            "Cholesterol    0\n",
            "Na_to_K        0\n",
            "Drug           0\n",
            "dtype: int64\n"
          ]
        }
      ]
    },
    {
      "cell_type": "code",
      "source": [
        "print(\"data:\\n\",ds)"
      ],
      "metadata": {
        "colab": {
          "base_uri": "https://localhost:8080/"
        },
        "id": "SZkQJXdBaXeE",
        "outputId": "02357de9-15a6-443d-bdc7-cdda572d2a26"
      },
      "execution_count": 33,
      "outputs": [
        {
          "output_type": "stream",
          "name": "stdout",
          "text": [
            "data:\n",
            "      Age Sex      BP Cholesterol  Na_to_K   Drug\n",
            "0     23   F    HIGH        HIGH   25.355  drugY\n",
            "1     47   M     LOW        HIGH   13.093  drugC\n",
            "2     47   M     LOW        HIGH   10.114  drugC\n",
            "3     28   F  NORMAL        HIGH    7.798  drugX\n",
            "4     61   F     LOW        HIGH   18.043  drugY\n",
            "..   ...  ..     ...         ...      ...    ...\n",
            "195   56   F     LOW        HIGH   11.567  drugC\n",
            "196   16   M     LOW        HIGH   12.006  drugC\n",
            "197   52   M  NORMAL        HIGH    9.894  drugX\n",
            "198   23   M  NORMAL      NORMAL   14.020  drugX\n",
            "199   40   F     LOW      NORMAL   11.349  drugX\n",
            "\n",
            "[200 rows x 6 columns]\n"
          ]
        }
      ]
    },
    {
      "cell_type": "code",
      "source": [
        "from sklearn import preprocessing\n",
        "sex_encoding=preprocessing.LabelEncoder()\n",
        "ds['Sex'] = sex_encoding.fit_transform(ds['Sex'])\n",
        "BP_encoding=preprocessing.LabelEncoder()\n",
        "ds['BP']=BP_encoding.fit_transform(ds['BP'])\n",
        "Cholesterol_encoding=preprocessing.LabelEncoder()\n",
        "ds['Cholesterol']=Cholesterol_encoding.fit_transform(ds['Cholesterol'])\n",
        "print(ds)"
      ],
      "metadata": {
        "colab": {
          "base_uri": "https://localhost:8080/"
        },
        "id": "ayZKKLIzbSh_",
        "outputId": "efc8bb6c-264a-4a3b-d940-800545fe0344"
      },
      "execution_count": 34,
      "outputs": [
        {
          "output_type": "stream",
          "name": "stdout",
          "text": [
            "     Age  Sex  BP  Cholesterol  Na_to_K   Drug\n",
            "0     23    0   0            0   25.355  drugY\n",
            "1     47    1   1            0   13.093  drugC\n",
            "2     47    1   1            0   10.114  drugC\n",
            "3     28    0   2            0    7.798  drugX\n",
            "4     61    0   1            0   18.043  drugY\n",
            "..   ...  ...  ..          ...      ...    ...\n",
            "195   56    0   1            0   11.567  drugC\n",
            "196   16    1   1            0   12.006  drugC\n",
            "197   52    1   2            0    9.894  drugX\n",
            "198   23    1   2            1   14.020  drugX\n",
            "199   40    0   1            1   11.349  drugX\n",
            "\n",
            "[200 rows x 6 columns]\n"
          ]
        }
      ]
    },
    {
      "cell_type": "code",
      "source": [
        "xcols=[col for col in ds.columns if col not in ['Drug']]\n",
        "x=ds[xcols]\n",
        "y=ds['Drug']"
      ],
      "metadata": {
        "id": "U4CoSFoRccYl"
      },
      "execution_count": 35,
      "outputs": []
    },
    {
      "cell_type": "code",
      "source": [
        "x_train,x_test,y_train,y_test=train_test_split(x,y,test_size=0.3,random_state=3)"
      ],
      "metadata": {
        "id": "YyVMCbhwccmj"
      },
      "execution_count": 36,
      "outputs": []
    },
    {
      "cell_type": "code",
      "source": [
        "from sklearn.linear_model import LogisticRegression\n",
        "logireg= LogisticRegression()\n",
        "logireg.fit(x_train, y_train)\n",
        "lr_prediction = logireg.predict(x_test)\n",
        "print(\"LogisticRegression's Accuracy: \", metrics.accuracy_score(y_test, lr_prediction))"
      ],
      "metadata": {
        "colab": {
          "base_uri": "https://localhost:8080/"
        },
        "id": "9QCBv26hm_Qk",
        "outputId": "23cef7e7-83a6-4be9-c29d-92b95049e5ba"
      },
      "execution_count": 54,
      "outputs": [
        {
          "output_type": "stream",
          "name": "stdout",
          "text": [
            "LogisticRegression's Accuracy:  0.9\n"
          ]
        },
        {
          "output_type": "stream",
          "name": "stderr",
          "text": [
            "/usr/local/lib/python3.10/dist-packages/sklearn/linear_model/_logistic.py:458: ConvergenceWarning: lbfgs failed to converge (status=1):\n",
            "STOP: TOTAL NO. of ITERATIONS REACHED LIMIT.\n",
            "\n",
            "Increase the number of iterations (max_iter) or scale the data as shown in:\n",
            "    https://scikit-learn.org/stable/modules/preprocessing.html\n",
            "Please also refer to the documentation for alternative solver options:\n",
            "    https://scikit-learn.org/stable/modules/linear_model.html#logistic-regression\n",
            "  n_iter_i = _check_optimize_result(\n"
          ]
        }
      ]
    },
    {
      "cell_type": "code",
      "source": [
        "from sklearn.tree import DecisionTreeClassifier\n",
        "dectree=DecisionTreeClassifier()\n",
        "dectree.fit(x_train,y_train)\n",
        "dr_prediction=dectree.predict(x_test)\n",
        "print(\"DecisionTrees's Accuracy: \", metrics.accuracy_score(y_test, dr_prediction))"
      ],
      "metadata": {
        "id": "SNV0d9DRcczW",
        "colab": {
          "base_uri": "https://localhost:8080/"
        },
        "outputId": "b88e6217-3f87-45bc-e20f-5fe7ab1f01c9"
      },
      "execution_count": 57,
      "outputs": [
        {
          "output_type": "stream",
          "name": "stdout",
          "text": [
            "DecisionTrees's Accuracy:  0.9833333333333333\n"
          ]
        }
      ]
    },
    {
      "cell_type": "code",
      "source": [
        "from sklearn.ensemble import RandomForestClassifier\n",
        "ranforest = RandomForestClassifier()\n",
        "ranforest.fit(x_train, y_train)\n",
        "rf_prediction= ranforest.predict(x_test)\n",
        "print(\"Random Forest's Accuracy:\", metrics.accuracy_score(y_test, rf_prediction))"
      ],
      "metadata": {
        "colab": {
          "base_uri": "https://localhost:8080/"
        },
        "id": "nMQXbfD7XRzF",
        "outputId": "ce3df8e4-6352-4b83-9504-f58ad32d53fd"
      },
      "execution_count": 74,
      "outputs": [
        {
          "output_type": "stream",
          "name": "stdout",
          "text": [
            "Random Forest's Accuracy: 0.9833333333333333\n"
          ]
        }
      ]
    },
    {
      "cell_type": "code",
      "source": [
        "from sklearn.neighbors import KNeighborsClassifier\n",
        "knn = KNeighborsClassifier()\n",
        "knn.fit(x_train, y_train)\n",
        "knn_prediction= knn.predict(x_test)\n",
        "print(\"KNN's Accuracy:\", metrics.accuracy_score(y_test, knn_prediction))"
      ],
      "metadata": {
        "colab": {
          "base_uri": "https://localhost:8080/"
        },
        "id": "tvKyDcJuXY01",
        "outputId": "6c20a73b-3b2e-4fbb-d49c-7957132ee11d"
      },
      "execution_count": 59,
      "outputs": [
        {
          "output_type": "stream",
          "name": "stdout",
          "text": [
            "KNN's Accuracy: 0.6333333333333333\n"
          ]
        }
      ]
    },
    {
      "cell_type": "code",
      "source": [
        "from sklearn.svm import SVC\n",
        "svm= SVC()\n",
        "svm.fit(x_train, y_train)\n",
        "svm_prediction= svm.predict(x_test)\n",
        "print(\"SVM's Accuracy:\", metrics.accuracy_score(y_test, svm_prediction))"
      ],
      "metadata": {
        "colab": {
          "base_uri": "https://localhost:8080/"
        },
        "id": "n1RsDF6xowgn",
        "outputId": "dcf355b6-291d-4fc6-c210-70347c7ae482"
      },
      "execution_count": 60,
      "outputs": [
        {
          "output_type": "stream",
          "name": "stdout",
          "text": [
            "SVM's Accuracy: 0.7\n"
          ]
        }
      ]
    },
    {
      "cell_type": "code",
      "source": [
        "from sklearn.naive_bayes import GaussianNB\n",
        "naivebayes = GaussianNB()\n",
        "naivebayes.fit(x_train, y_train)\n",
        "nb_prediction= naivebayes.predict(x_test)\n",
        "print(\"Naive Bayes' Accuracy:\", metrics.accuracy_score(y_test, nb_prediction))"
      ],
      "metadata": {
        "colab": {
          "base_uri": "https://localhost:8080/"
        },
        "id": "LaCHNhiUo-QV",
        "outputId": "b5ebab71-edac-4403-9815-73b352eb8c7f"
      },
      "execution_count": 61,
      "outputs": [
        {
          "output_type": "stream",
          "name": "stdout",
          "text": [
            "Naive Bayes' Accuracy: 0.85\n"
          ]
        }
      ]
    },
    {
      "cell_type": "code",
      "source": [
        "new_patient_data=pd.DataFrame({'Age':[30],'Sex':'F','BP':['NORMAL'],'Cholesterol':['HIGH'],'Na_to_K':[15.0]})"
      ],
      "metadata": {
        "id": "d8WrpTKnpG5y"
      },
      "execution_count": 66,
      "outputs": []
    },
    {
      "cell_type": "code",
      "source": [
        "new_patient_data['Sex'] = sex_encoding.fit_transform(new_patient_data['Sex'])\n",
        "new_patient_data['BP'] = BP_encoding.fit_transform(new_patient_data['BP'])\n",
        "new_patient_data['Cholesterol'] = Cholesterol_encoding.fit_transform(new_patient_data['Cholesterol'])\n",
        "print(\"New Patient Data:\")\n",
        "print(new_patient_data)"
      ],
      "metadata": {
        "colab": {
          "base_uri": "https://localhost:8080/"
        },
        "id": "y8ScOJBaprV1",
        "outputId": "c6268fba-e9f4-41fc-9447-8224808e38d9"
      },
      "execution_count": 71,
      "outputs": [
        {
          "output_type": "stream",
          "name": "stdout",
          "text": [
            "New Patient Data:\n",
            "   Age  Sex  BP  Cholesterol  Na_to_K\n",
            "0   30    0   0            0     15.0\n"
          ]
        }
      ]
    },
    {
      "cell_type": "code",
      "source": [
        "logreg_prediction = logireg.predict(new_patient_data)\n",
        "dt_prediction=dectree.predict(new_patient_data)\n",
        "rf_prediction = ranforest.predict(new_patient_data)\n",
        "knn_prediction = knn.predict(new_patient_data)\n",
        "svm_prediction = svm.predict(new_patient_data)\n",
        "nb_prediction = naivebayes.predict(new_patient_data)\n",
        "print(\"\\nPredictions for the New Patient:\")\n",
        "print(\"Logistic Regression Prediction:\", logreg_prediction[0])\n",
        "print(\"Decision Tree Prediction:\",dt_prediction[0])\n",
        "print(\"Random Forest Prediction:\", rf_prediction[0])\n",
        "print(\"KNN Prediction:\", knn_prediction[0])\n",
        "print(\"SVM Prediction:\", svm_prediction[0])\n",
        "print(\"Naive Bayes Prediction:\", nb_prediction[0])"
      ],
      "metadata": {
        "colab": {
          "base_uri": "https://localhost:8080/"
        },
        "id": "FmvG1Zisp_f8",
        "outputId": "fe569cf5-755f-44e6-e869-1c4d12bf8ebe"
      },
      "execution_count": 80,
      "outputs": [
        {
          "output_type": "stream",
          "name": "stdout",
          "text": [
            "\n",
            "Predictions for the New Patient:\n",
            "Logistic Regression Prediction: drugA\n",
            "Decision Tree Prediction: drugY\n",
            "Random Forest Prediction: drugY\n",
            "KNN Prediction: drugC\n",
            "SVM Prediction: drugY\n",
            "Naive Bayes Prediction: drugA\n"
          ]
        }
      ]
    },
    {
      "cell_type": "code",
      "source": [],
      "metadata": {
        "id": "WSSpkXNIr0C0"
      },
      "execution_count": null,
      "outputs": []
    }
  ]
}