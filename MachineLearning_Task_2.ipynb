{
  "nbformat": 4,
  "nbformat_minor": 0,
  "metadata": {
    "colab": {
      "provenance": [],
      "authorship_tag": "ABX9TyNCQcvWooss+zCiwjQzdp04",
      "include_colab_link": true
    },
    "kernelspec": {
      "name": "python3",
      "display_name": "Python 3"
    },
    "language_info": {
      "name": "python"
    }
  },
  "cells": [
    {
      "cell_type": "markdown",
      "metadata": {
        "id": "view-in-github",
        "colab_type": "text"
      },
      "source": [
        "<a href=\"https://colab.research.google.com/github/AnjanaAbY/MyDoodle/blob/main/MachineLearning_Task_2.ipynb\" target=\"_parent\"><img src=\"https://colab.research.google.com/assets/colab-badge.svg\" alt=\"Open In Colab\"/></a>"
      ]
    },
    {
      "cell_type": "markdown",
      "source": [
        "# **DRUG CLASSIFICATION MODEL**"
      ],
      "metadata": {
        "id": "w9pm947E7Uvw"
      }
    },
    {
      "cell_type": "markdown",
      "source": [
        "## **Download dataset**"
      ],
      "metadata": {
        "id": "b2YtOfpp7o0J"
      }
    },
    {
      "cell_type": "code",
      "execution_count": 4,
      "metadata": {
        "colab": {
          "base_uri": "https://localhost:8080/"
        },
        "id": "BGHqISYTZrJI",
        "outputId": "d3b91c36-8d50-41e7-df98-d3474846a64b"
      },
      "outputs": [
        {
          "output_type": "stream",
          "name": "stdout",
          "text": [
            "--2023-12-04 09:02:01--  https://s3-api.us-geo.objectstorage.softlayer.net/cf-courses-data/CognitiveClass/ML0101ENv3/labs/drug200.csv\n",
            "Resolving s3-api.us-geo.objectstorage.softlayer.net (s3-api.us-geo.objectstorage.softlayer.net)... 67.228.254.196\n",
            "Connecting to s3-api.us-geo.objectstorage.softlayer.net (s3-api.us-geo.objectstorage.softlayer.net)|67.228.254.196|:443... connected.\n",
            "HTTP request sent, awaiting response... 200 OK\n",
            "Length: 6027 (5.9K) [text/csv]\n",
            "Saving to: ‘drug200.csv’\n",
            "\n",
            "drug200.csv         100%[===================>]   5.89K  --.-KB/s    in 0s      \n",
            "\n",
            "2023-12-04 09:02:01 (1.25 GB/s) - ‘drug200.csv’ saved [6027/6027]\n",
            "\n"
          ]
        }
      ],
      "source": [
        "!wget -O drug200.csv https://s3-api.us-geo.objectstorage.softlayer.net/cf-courses-data/CognitiveClass/ML0101ENv3/labs/drug200.csv"
      ]
    },
    {
      "cell_type": "markdown",
      "source": [
        "### 1. **Data Loading and Exploration**"
      ],
      "metadata": {
        "id": "m3G6_Rnl76-d"
      }
    },
    {
      "cell_type": "code",
      "source": [
        "#Importing basic libraries\n",
        "import numpy as np\n",
        "import pandas as pd\n",
        "import matplotlib.pyplot as plt\n",
        "import seaborn as sns\n",
        "from sklearn.model_selection import train_test_split\n",
        "from sklearn import metrics"
      ],
      "metadata": {
        "id": "YV6_VvetZx7h"
      },
      "execution_count": 77,
      "outputs": []
    },
    {
      "cell_type": "code",
      "source": [
        "def calculate_additional_metrics(model_name, y_true, y_pred):\n",
        "    precision = metrics.precision_score(y_true, y_pred,average='weighted')\n",
        "    recall = metrics.recall_score(y_true, y_pred,average='weighted')\n",
        "    f1_score = metrics.f1_score(y_true, y_pred,average='weighted')\n",
        "\n",
        "    print(f\"{model_name} - Additional Metrics:\")\n",
        "    print(f\"Precision: {precision}\")\n",
        "    print(f\"Recall: {recall}\")\n",
        "    print(f\"F1-Score: {f1_score}\\n\")"
      ],
      "metadata": {
        "id": "ToyXW1F_PLTH"
      },
      "execution_count": 96,
      "outputs": []
    },
    {
      "cell_type": "code",
      "source": [
        "#Load dataset\n",
        "ds=pd.read_csv(\"drug200.csv\")"
      ],
      "metadata": {
        "id": "-p2HGfdcZ6Ra"
      },
      "execution_count": 79,
      "outputs": []
    },
    {
      "cell_type": "code",
      "source": [
        "#display dataset information\n",
        "print(\"Description:\\n\",ds.describe())"
      ],
      "metadata": {
        "colab": {
          "base_uri": "https://localhost:8080/"
        },
        "id": "SHVYqTh7aCX9",
        "outputId": "b8f0441c-7f9c-49f2-9e71-971dbaa695c2"
      },
      "execution_count": 80,
      "outputs": [
        {
          "output_type": "stream",
          "name": "stdout",
          "text": [
            "Description:\n",
            "               Age     Na_to_K\n",
            "count  200.000000  200.000000\n",
            "mean    44.315000   16.084485\n",
            "std     16.544315    7.223956\n",
            "min     15.000000    6.269000\n",
            "25%     31.000000   10.445500\n",
            "50%     45.000000   13.936500\n",
            "75%     58.000000   19.380000\n",
            "max     74.000000   38.247000\n"
          ]
        }
      ]
    },
    {
      "cell_type": "markdown",
      "source": [
        "### **2.Data Preprocessing**"
      ],
      "metadata": {
        "id": "JfwlGFoy8FEz"
      }
    },
    {
      "cell_type": "code",
      "source": [
        "#checking null values\n",
        "print(\"null values:\\n\",ds.isnull().sum())"
      ],
      "metadata": {
        "colab": {
          "base_uri": "https://localhost:8080/"
        },
        "id": "Cr67OQaUaL_w",
        "outputId": "6370d0be-5116-496a-94d0-f47cbd0e8a91"
      },
      "execution_count": 81,
      "outputs": [
        {
          "output_type": "stream",
          "name": "stdout",
          "text": [
            "null values:\n",
            " Age            0\n",
            "Sex            0\n",
            "BP             0\n",
            "Cholesterol    0\n",
            "Na_to_K        0\n",
            "Drug           0\n",
            "dtype: int64\n"
          ]
        }
      ]
    },
    {
      "cell_type": "code",
      "source": [
        "print(\"data:\\n\",ds)"
      ],
      "metadata": {
        "colab": {
          "base_uri": "https://localhost:8080/"
        },
        "id": "SZkQJXdBaXeE",
        "outputId": "2c3fe26c-c96b-46a9-dd45-31892ac5737d"
      },
      "execution_count": 82,
      "outputs": [
        {
          "output_type": "stream",
          "name": "stdout",
          "text": [
            "data:\n",
            "      Age Sex      BP Cholesterol  Na_to_K   Drug\n",
            "0     23   F    HIGH        HIGH   25.355  drugY\n",
            "1     47   M     LOW        HIGH   13.093  drugC\n",
            "2     47   M     LOW        HIGH   10.114  drugC\n",
            "3     28   F  NORMAL        HIGH    7.798  drugX\n",
            "4     61   F     LOW        HIGH   18.043  drugY\n",
            "..   ...  ..     ...         ...      ...    ...\n",
            "195   56   F     LOW        HIGH   11.567  drugC\n",
            "196   16   M     LOW        HIGH   12.006  drugC\n",
            "197   52   M  NORMAL        HIGH    9.894  drugX\n",
            "198   23   M  NORMAL      NORMAL   14.020  drugX\n",
            "199   40   F     LOW      NORMAL   11.349  drugX\n",
            "\n",
            "[200 rows x 6 columns]\n"
          ]
        }
      ]
    },
    {
      "cell_type": "markdown",
      "source": [
        "### **3. Model Traing and Evaluation**"
      ],
      "metadata": {
        "id": "u4_Yjk-x8O4T"
      }
    },
    {
      "cell_type": "code",
      "source": [
        "#Label encoding for categorical variables\n",
        "from sklearn import preprocessing\n",
        "sex_encoding=preprocessing.LabelEncoder()\n",
        "ds['Sex'] = sex_encoding.fit_transform(ds['Sex'])\n",
        "BP_encoding=preprocessing.LabelEncoder()\n",
        "ds['BP']=BP_encoding.fit_transform(ds['BP'])\n",
        "Cholesterol_encoding=preprocessing.LabelEncoder()\n",
        "ds['Cholesterol']=Cholesterol_encoding.fit_transform(ds['Cholesterol'])\n",
        "#display the preprocessed dataset\n",
        "print(ds)"
      ],
      "metadata": {
        "colab": {
          "base_uri": "https://localhost:8080/"
        },
        "id": "ayZKKLIzbSh_",
        "outputId": "c689fd8c-2080-4811-fb3e-e6b5951d4b5a"
      },
      "execution_count": 83,
      "outputs": [
        {
          "output_type": "stream",
          "name": "stdout",
          "text": [
            "     Age  Sex  BP  Cholesterol  Na_to_K   Drug\n",
            "0     23    0   0            0   25.355  drugY\n",
            "1     47    1   1            0   13.093  drugC\n",
            "2     47    1   1            0   10.114  drugC\n",
            "3     28    0   2            0    7.798  drugX\n",
            "4     61    0   1            0   18.043  drugY\n",
            "..   ...  ...  ..          ...      ...    ...\n",
            "195   56    0   1            0   11.567  drugC\n",
            "196   16    1   1            0   12.006  drugC\n",
            "197   52    1   2            0    9.894  drugX\n",
            "198   23    1   2            1   14.020  drugX\n",
            "199   40    0   1            1   11.349  drugX\n",
            "\n",
            "[200 rows x 6 columns]\n"
          ]
        }
      ]
    },
    {
      "cell_type": "code",
      "source": [
        "#Split the data into features(x) and target variable(y)\n",
        "xcols=[col for col in ds.columns if col not in ['Drug']]\n",
        "x=ds[xcols]\n",
        "y=ds['Drug']"
      ],
      "metadata": {
        "id": "U4CoSFoRccYl"
      },
      "execution_count": 84,
      "outputs": []
    },
    {
      "cell_type": "code",
      "source": [
        "#Spli the data into traing data and testing data\n",
        "x_train,x_test,y_train,y_test=train_test_split(x,y,test_size=0.3,random_state=3)"
      ],
      "metadata": {
        "id": "YyVMCbhwccmj"
      },
      "execution_count": 85,
      "outputs": []
    },
    {
      "cell_type": "code",
      "source": [
        "#Train Logistic Regression Model\n",
        "from sklearn.linear_model import LogisticRegression\n",
        "logireg= LogisticRegression()\n",
        "logireg.fit(x_train, y_train)\n",
        "lr_prediction = logireg.predict(x_test)\n",
        "print(\"LogisticRegression's Accuracy: \", metrics.accuracy_score(y_test, lr_prediction))"
      ],
      "metadata": {
        "colab": {
          "base_uri": "https://localhost:8080/"
        },
        "id": "9QCBv26hm_Qk",
        "outputId": "a08c5e5c-21b8-4ff6-819f-7fc31798803a"
      },
      "execution_count": 86,
      "outputs": [
        {
          "output_type": "stream",
          "name": "stdout",
          "text": [
            "LogisticRegression's Accuracy:  0.9\n"
          ]
        },
        {
          "output_type": "stream",
          "name": "stderr",
          "text": [
            "/usr/local/lib/python3.10/dist-packages/sklearn/linear_model/_logistic.py:458: ConvergenceWarning: lbfgs failed to converge (status=1):\n",
            "STOP: TOTAL NO. of ITERATIONS REACHED LIMIT.\n",
            "\n",
            "Increase the number of iterations (max_iter) or scale the data as shown in:\n",
            "    https://scikit-learn.org/stable/modules/preprocessing.html\n",
            "Please also refer to the documentation for alternative solver options:\n",
            "    https://scikit-learn.org/stable/modules/linear_model.html#logistic-regression\n",
            "  n_iter_i = _check_optimize_result(\n"
          ]
        }
      ]
    },
    {
      "cell_type": "code",
      "source": [
        "#Train Decision Tree classifier Model\n",
        "from sklearn.tree import DecisionTreeClassifier\n",
        "dectree=DecisionTreeClassifier()\n",
        "dectree.fit(x_train,y_train)\n",
        "dr_prediction=dectree.predict(x_test)\n",
        "print(\"DecisionTrees's Accuracy: \", metrics.accuracy_score(y_test, dr_prediction))"
      ],
      "metadata": {
        "id": "SNV0d9DRcczW",
        "colab": {
          "base_uri": "https://localhost:8080/"
        },
        "outputId": "148bac0b-c568-404d-dded-081e85c1d79a"
      },
      "execution_count": 87,
      "outputs": [
        {
          "output_type": "stream",
          "name": "stdout",
          "text": [
            "DecisionTrees's Accuracy:  0.9833333333333333\n"
          ]
        }
      ]
    },
    {
      "cell_type": "code",
      "source": [
        "#Training Random Forest Model\n",
        "from sklearn.ensemble import RandomForestClassifier\n",
        "ranforest = RandomForestClassifier()\n",
        "ranforest.fit(x_train, y_train)\n",
        "rf_prediction= ranforest.predict(x_test)\n",
        "print(\"Random Forest's Accuracy:\", metrics.accuracy_score(y_test, rf_prediction))"
      ],
      "metadata": {
        "colab": {
          "base_uri": "https://localhost:8080/"
        },
        "id": "nMQXbfD7XRzF",
        "outputId": "b6091fbe-21b7-49f7-e3bc-1d126f14424b"
      },
      "execution_count": 88,
      "outputs": [
        {
          "output_type": "stream",
          "name": "stdout",
          "text": [
            "Random Forest's Accuracy: 0.9833333333333333\n"
          ]
        }
      ]
    },
    {
      "cell_type": "code",
      "source": [
        "#Training KNN Model\n",
        "from sklearn.neighbors import KNeighborsClassifier\n",
        "knn = KNeighborsClassifier()\n",
        "knn.fit(x_train, y_train)\n",
        "knn_prediction= knn.predict(x_test)\n",
        "print(\"KNN's Accuracy:\", metrics.accuracy_score(y_test, knn_prediction))"
      ],
      "metadata": {
        "colab": {
          "base_uri": "https://localhost:8080/"
        },
        "id": "tvKyDcJuXY01",
        "outputId": "716e1a92-156a-4a49-c910-bd6d27ee4e29"
      },
      "execution_count": 89,
      "outputs": [
        {
          "output_type": "stream",
          "name": "stdout",
          "text": [
            "KNN's Accuracy: 0.6333333333333333\n"
          ]
        }
      ]
    },
    {
      "cell_type": "code",
      "source": [
        "#Training SVM model\n",
        "from sklearn.svm import SVC\n",
        "svm= SVC()\n",
        "svm.fit(x_train, y_train)\n",
        "svm_prediction= svm.predict(x_test)\n",
        "print(\"SVM's Accuracy:\", metrics.accuracy_score(y_test, svm_prediction))"
      ],
      "metadata": {
        "colab": {
          "base_uri": "https://localhost:8080/"
        },
        "id": "n1RsDF6xowgn",
        "outputId": "133e2e92-1ccc-44ff-ebb7-47589c2e446c"
      },
      "execution_count": 90,
      "outputs": [
        {
          "output_type": "stream",
          "name": "stdout",
          "text": [
            "SVM's Accuracy: 0.7\n"
          ]
        }
      ]
    },
    {
      "cell_type": "code",
      "source": [
        "#Training Naive Bayes Model\n",
        "from sklearn.naive_bayes import GaussianNB\n",
        "naivebayes = GaussianNB()\n",
        "naivebayes.fit(x_train, y_train)\n",
        "nb_prediction= naivebayes.predict(x_test)\n",
        "print(\"Naive Bayes' Accuracy:\", metrics.accuracy_score(y_test, nb_prediction))"
      ],
      "metadata": {
        "colab": {
          "base_uri": "https://localhost:8080/"
        },
        "id": "LaCHNhiUo-QV",
        "outputId": "2cba04fe-8902-4ee2-a2c7-05254572b8c8"
      },
      "execution_count": 91,
      "outputs": [
        {
          "output_type": "stream",
          "name": "stdout",
          "text": [
            "Naive Bayes' Accuracy: 0.85\n"
          ]
        }
      ]
    },
    {
      "cell_type": "markdown",
      "source": [
        "### **4. Prediction For New Patients**"
      ],
      "metadata": {
        "id": "awZNThmw8XOR"
      }
    },
    {
      "cell_type": "code",
      "source": [
        "#New patient data\n",
        "new_patient_data=pd.DataFrame({'Age':[30],'Sex':'F','BP':['NORMAL'],'Cholesterol':['HIGH'],'Na_to_K':[15.0]})"
      ],
      "metadata": {
        "id": "d8WrpTKnpG5y"
      },
      "execution_count": 92,
      "outputs": []
    },
    {
      "cell_type": "code",
      "source": [
        "new_patient_data['Sex'] = sex_encoding.fit_transform(new_patient_data['Sex'])\n",
        "new_patient_data['BP'] = BP_encoding.fit_transform(new_patient_data['BP'])\n",
        "new_patient_data['Cholesterol'] = Cholesterol_encoding.fit_transform(new_patient_data['Cholesterol'])\n",
        "print(\"New Patient Data:\")\n",
        "print(new_patient_data)"
      ],
      "metadata": {
        "colab": {
          "base_uri": "https://localhost:8080/"
        },
        "id": "y8ScOJBaprV1",
        "outputId": "50ed60bd-b877-420e-b153-3b443a76d8f1"
      },
      "execution_count": 93,
      "outputs": [
        {
          "output_type": "stream",
          "name": "stdout",
          "text": [
            "New Patient Data:\n",
            "   Age  Sex  BP  Cholesterol  Na_to_K\n",
            "0   30    0   0            0     15.0\n"
          ]
        }
      ]
    },
    {
      "cell_type": "code",
      "source": [
        "#Use the trained model for predict for the new patient\n",
        "logreg_prediction = logireg.predict(new_patient_data)\n",
        "dt_prediction=dectree.predict(new_patient_data)\n",
        "rf_prediction = ranforest.predict(new_patient_data)\n",
        "knn_prediction = knn.predict(new_patient_data)\n",
        "svm_prediction = svm.predict(new_patient_data)\n",
        "nb_prediction = naivebayes.predict(new_patient_data)\n",
        "print(\"\\nPredictions for the New Patient:\")\n",
        "print(\"Logistic Regression Prediction:\", logreg_prediction[0])\n",
        "print(\"Decision Tree Prediction:\",dt_prediction[0])\n",
        "print(\"Random Forest Prediction:\", rf_prediction[0])\n",
        "print(\"KNN Prediction:\", knn_prediction[0])\n",
        "print(\"SVM Prediction:\", svm_prediction[0])\n",
        "print(\"Naive Bayes Prediction:\", nb_prediction[0])"
      ],
      "metadata": {
        "colab": {
          "base_uri": "https://localhost:8080/"
        },
        "id": "FmvG1Zisp_f8",
        "outputId": "812096b7-f646-41d9-d121-b75d4ae6a044"
      },
      "execution_count": 55,
      "outputs": [
        {
          "output_type": "stream",
          "name": "stdout",
          "text": [
            "\n",
            "Predictions for the New Patient:\n",
            "Logistic Regression Prediction: drugA\n",
            "Decision Tree Prediction: drugY\n",
            "Random Forest Prediction: drugY\n",
            "KNN Prediction: drugC\n",
            "SVM Prediction: drugY\n",
            "Naive Bayes Prediction: drugA\n"
          ]
        }
      ]
    },
    {
      "cell_type": "code",
      "source": [
        "y_test_array = y_test.values"
      ],
      "metadata": {
        "id": "WSSpkXNIr0C0"
      },
      "execution_count": 94,
      "outputs": []
    },
    {
      "cell_type": "code",
      "source": [
        "# Use the trained models to predict for the new patient\n",
        "logreg_prediction = logireg.predict(x_test)\n",
        "dt_prediction = dectree.predict(x_test)\n",
        "rf_prediction = ranforest.predict(x_test)\n",
        "knn_prediction = knn.predict(x_test)\n",
        "svm_prediction = svm.predict(x_test)\n",
        "nb_prediction = naivebayes.predict(x_test)\n",
        "\n",
        "# Convert predictions to arrays\n",
        "logreg_prediction = np.expand_dims(logreg_prediction, axis=1)\n",
        "dt_prediction = np.expand_dims(dt_prediction, axis=1)\n",
        "rf_prediction = np.expand_dims(rf_prediction, axis=1)\n",
        "knn_prediction = np.expand_dims(knn_prediction, axis=1)\n",
        "svm_prediction = np.expand_dims(svm_prediction, axis=1)\n",
        "nb_prediction = np.expand_dims(nb_prediction, axis=1)\n",
        "\n",
        "# Calculate additional metrics for each model\n",
        "calculate_additional_metrics('Logistic Regression', y_test_array, logreg_prediction)\n",
        "calculate_additional_metrics('Decision Tree', y_test_array, dt_prediction)\n",
        "calculate_additional_metrics('Random Forest', y_test_array, rf_prediction)\n",
        "calculate_additional_metrics('KNN', y_test_array, knn_prediction)\n",
        "calculate_additional_metrics('SVM', y_test_array, svm_prediction)\n",
        "calculate_additional_metrics('Naive Bayes', y_test_array, nb_prediction)"
      ],
      "metadata": {
        "colab": {
          "base_uri": "https://localhost:8080/"
        },
        "id": "OaerIvJ5FV30",
        "outputId": "9fa07726-52b4-4a3f-a01e-c009bb639e9e"
      },
      "execution_count": 97,
      "outputs": [
        {
          "output_type": "stream",
          "name": "stdout",
          "text": [
            "Logistic Regression - Additional Metrics:\n",
            "Precision: 0.9082738095238094\n",
            "Recall: 0.9\n",
            "F1-Score: 0.9000264550264551\n",
            "\n",
            "Decision Tree - Additional Metrics:\n",
            "Precision: 0.9840579710144927\n",
            "Recall: 0.9833333333333333\n",
            "F1-Score: 0.9833152664859981\n",
            "\n",
            "Random Forest - Additional Metrics:\n",
            "Precision: 0.9840579710144927\n",
            "Recall: 0.9833333333333333\n",
            "F1-Score: 0.9833152664859981\n",
            "\n",
            "KNN - Additional Metrics:\n",
            "Precision: 0.7005698005698006\n",
            "Recall: 0.6333333333333333\n",
            "F1-Score: 0.6444670280036134\n",
            "\n",
            "SVM - Additional Metrics:\n",
            "Precision: 0.5226666666666666\n",
            "Recall: 0.7\n",
            "F1-Score: 0.5932624113475177\n",
            "\n",
            "Naive Bayes - Additional Metrics:\n",
            "Precision: 0.8854960317460318\n",
            "Recall: 0.85\n",
            "F1-Score: 0.8485663320311813\n",
            "\n"
          ]
        },
        {
          "output_type": "stream",
          "name": "stderr",
          "text": [
            "/usr/local/lib/python3.10/dist-packages/sklearn/metrics/_classification.py:1344: UndefinedMetricWarning: Precision is ill-defined and being set to 0.0 in labels with no predicted samples. Use `zero_division` parameter to control this behavior.\n",
            "  _warn_prf(average, modifier, msg_start, len(result))\n"
          ]
        }
      ]
    },
    {
      "cell_type": "code",
      "source": [],
      "metadata": {
        "id": "GZaxDNHZKZVZ"
      },
      "execution_count": null,
      "outputs": []
    }
  ]
}